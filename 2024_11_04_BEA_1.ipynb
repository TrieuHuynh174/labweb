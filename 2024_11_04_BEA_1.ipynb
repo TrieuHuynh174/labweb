{
  "cells": [
    {
      "cell_type": "code",
      "execution_count": 1,
      "metadata": {
        "colab": {
          "base_uri": "https://localhost:8080/"
        },
        "id": "-Vw14-nn3buX",
        "outputId": "969e0d89-1581-4ccb-c725-75959888f10d"
      },
      "outputs": [
        {
          "name": "stdout",
          "output_type": "stream",
          "text": [
            "Bond(2, 0) = 4410\n",
            "Bond(2, 1) = 890\n"
          ]
        }
      ],
      "source": [
        "## computing the bond\n",
        "import numpy as np\n",
        "\n",
        "def compute_bond(AA, i, j):\n",
        "    \"\"\"\n",
        "    Computes the bond between columns i and j in a vertical fragmentation\n",
        "    given an affinity matrix AA.\n",
        "\n",
        "    Parameters:\n",
        "    AA (numpy.ndarray): The affinity matrix (2D array)\n",
        "    i (int): Index of the first column\n",
        "    j (int): Index of the second column\n",
        "\n",
        "    Returns:\n",
        "    float: The bond value between column i and column j\n",
        "    \"\"\"\n",
        "    # Validate indices\n",
        "    if i <0 or j <0 :\n",
        "        return 0\n",
        "    # Extract columns\n",
        "    col_i = AA[:, i]\n",
        "    col_j = AA[:, j]\n",
        "\n",
        "    # Compute the bond as the sum of products of elements\n",
        "    bond_value = np.sum(col_i * col_j)\n",
        "\n",
        "    return bond_value\n",
        "\n",
        "# Example usage:\n",
        "AA = np.array([[45,0,45,0],\n",
        "               [0,80,5,75],\n",
        "               [45,5,53,3],\n",
        "               [0,75,3,78]])\n",
        "\n",
        "i = 2\n",
        "j = 0\n",
        "\n",
        "bond_result = compute_bond(AA, i, j)\n",
        "print(f\"Bond({i}, {j}) = {bond_result}\")\n",
        "\n",
        "i = 2\n",
        "j = 1\n",
        "\n",
        "bond_result = compute_bond(AA, i, j)\n",
        "print(f\"Bond({i}, {j}) = {bond_result}\")\n"
      ]
    },
    {
      "cell_type": "code",
      "execution_count": 6,
      "metadata": {
        "colab": {
          "base_uri": "https://localhost:8080/"
        },
        "id": "BVjs34rQ7i5H",
        "outputId": "ffcaaaed-a6ba-412f-ed09-30eaabd3ddc3"
      },
      "outputs": [
        {
          "name": "stdout",
          "output_type": "stream",
          "text": [
            "Bond(2, 0) = 4410\n",
            "bond1= 0\n",
            "bond2= 135\n",
            "bond3= 0\n",
            "Cont(-1, 3, 0) = 270\n",
            "\n",
            "bond1= 135\n",
            "bond2= 768\n",
            "bond3= 4410\n",
            "Cont(0, 3, 2) = -7014\n",
            "\n",
            "bond1= 768\n",
            "bond2= 11865\n",
            "bond3= 890\n",
            "Cont(2, 3, 1) = 23486\n",
            "\n",
            "bond1= 11865\n",
            "bond2= 0\n",
            "bond3= 0\n",
            "Cont(1, 3, -1) = 23730\n"
          ]
        }
      ],
      "source": [
        "## computing the contribution\n",
        "import numpy as np\n",
        "\n",
        "def compute_bond(AA, i, j):\n",
        "    \"\"\"\n",
        "    Computes the bond between columns i and j in a vertical fragmentation\n",
        "    given an affinity matrix AA.\n",
        "\n",
        "    Parameters:\n",
        "    AA (numpy.ndarray): The affinity matrix (2D array)\n",
        "    i (int): Index of the first column\n",
        "    j (int): Index of the second column\n",
        "\n",
        "    Returns:\n",
        "    float: The bond value between column i and column j\n",
        "    \"\"\"\n",
        "    # Validate indices\n",
        "    if i <0 or j <0 :\n",
        "        return 0\n",
        "    # Extract columns\n",
        "    col_i = AA[:, i]\n",
        "    col_j = AA[:, j]\n",
        "\n",
        "    # Compute the bond as the sum of products of elements\n",
        "    bond_value = np.sum(col_i * col_j)\n",
        "\n",
        "    return bond_value\n",
        "################################################\n",
        "def compute_cont(AA, i, k,j):\n",
        "  bond1=compute_bond(AA, i, k)\n",
        "  bond2=compute_bond(AA, k, j)\n",
        "  bond3=compute_bond(AA, i, j)\n",
        "  print(\"bond1=\",bond1)\n",
        "  print(\"bond2=\",bond2)\n",
        "  print(\"bond3=\",bond3)\n",
        "  result= 2*bond1 +2*bond2-2*bond3\n",
        "  return result\n",
        "\n",
        "# Example usage:\n",
        "AA = np.array([[45,0,45,0],\n",
        "               [0,80,5,75],\n",
        "               [45,5,53,3],\n",
        "               [0,75,3,78]])\n",
        "\n",
        "i = 2\n",
        "j = 0\n",
        "\n",
        "bond_result = compute_bond(AA, i, j)\n",
        "print(f\"Bond({i}, {j}) = {bond_result}\")\n",
        "######################################################\n",
        "i=-1 ## thuoc tinh khong co\n",
        "k=3\n",
        "j=0\n",
        "cont_result=compute_cont(AA, i, k,j)\n",
        "print(f\"Cont({i}, {k}, {j}) = {cont_result}\")\n",
        "print()\n",
        "i=0 ## thuoc tinh khong co\n",
        "k=3\n",
        "j=2\n",
        "cont_result=compute_cont(AA, i, k,j)\n",
        "print(f\"Cont({i}, {k}, {j}) = {cont_result}\")\n",
        "print()\n",
        "i=2 ## thuoc tinh khong co\n",
        "k=3\n",
        "j=1\n",
        "cont_result=compute_cont(AA, i, k,j)\n",
        "print(f\"Cont({i}, {k}, {j}) = {cont_result}\")\n",
        "print()\n",
        "i= 1 ## thuoc tinh khong co\n",
        "k= 3\n",
        "j=-1\n",
        "cont_result=compute_cont(AA, i, k,j)\n",
        "print(f\"Cont({i}, {k}, {j}) = {cont_result}\")\n"
      ]
    }
  ],
  "metadata": {
    "colab": {
      "provenance": []
    },
    "kernelspec": {
      "display_name": "Python 3",
      "name": "python3"
    },
    "language_info": {
      "codemirror_mode": {
        "name": "ipython",
        "version": 3
      },
      "file_extension": ".py",
      "mimetype": "text/x-python",
      "name": "python",
      "nbconvert_exporter": "python",
      "pygments_lexer": "ipython3",
      "version": "3.13.0"
    }
  },
  "nbformat": 4,
  "nbformat_minor": 0
}
